{
 "cells": [
  {
   "cell_type": "code",
   "execution_count": 1,
   "id": "18b0b6ac",
   "metadata": {},
   "outputs": [],
   "source": [
    "#PROYECTO OilyGiant"
   ]
  },
  {
   "cell_type": "code",
   "execution_count": 2,
   "id": "2f3a4f33",
   "metadata": {},
   "outputs": [],
   "source": [
    "## INTRODUCCIÓN"
   ]
  },
  {
   "cell_type": "markdown",
   "id": "0e0958f3",
   "metadata": {},
   "source": [
    "Este proyecto tiene como objetivo determinar los mejores lugares para abrir 200 pozos nuevos de petróleo para la compañía OilyGiant. Utilizando datos geológicos de tres regiones, entrenaremos modelos de regresión lineal para predecir el volumen de reservas de petróleo en nuevos pozos. Seleccionaremos los 200 pozos con las predicciones más altas en cada región y calcularemos la ganancia potencial. Aplicaremos la técnica de bootstrapping para evaluar los riesgos y determinar la región con el mayor beneficio esperado y menor riesgo de pérdidas. Finalmente, se propondrá la región óptima para el desarrollo de los nuevos pozos."
   ]
  },
  {
   "cell_type": "code",
   "execution_count": 2,
   "id": "1d44172a",
   "metadata": {},
   "outputs": [],
   "source": [
    "# Importar librerías necesarias\n",
    "import pandas as pd\n",
    "import numpy as np\n",
    "import matplotlib.pyplot as plt\n",
    "from sklearn.model_selection import train_test_split\n",
    "from sklearn.linear_model import LinearRegression\n",
    "from sklearn.metrics import mean_squared_error\n",
    "from sklearn.preprocessing import StandardScaler\n",
    "from sklearn.linear_model import Ridge\n",
    "from sklearn.ensemble import GradientBoostingRegressor\n",
    "from sklearn.pipeline import Pipeline"
   ]
  },
  {
   "cell_type": "code",
   "execution_count": 4,
   "id": "678d224f",
   "metadata": {},
   "outputs": [],
   "source": [
    "oil_0 = pd.read_excel(\"C:\\\\Users\\\\ADMIN\\\\Downloads\\\\geo_data_0.xlsx\")\n",
    "oil_0.info()"
   ]
  },
  {
   "cell_type": "code",
   "execution_count": 5,
   "id": "cd3be8b4",
   "metadata": {},
   "outputs": [],
   "source": [
    "oil_1= pd.read_excel(\"C:\\\\Users\\\\ADMIN\\\\Downloads\\\\geo_data_1.xlsx\")\n",
    "oil_1.info()"
   ]
  },
  {
   "cell_type": "code",
   "execution_count": 6,
   "id": "df642d03",
   "metadata": {
    "scrolled": true
   },
   "outputs": [],
   "source": [
    "oil_2= pd.read_excel(\"C:\\\\Users\\\\ADMIN\\\\Downloads\\\\geo_data_2.xlsx\")\n",
    "oil_2.info()"
   ]
  },
  {
   "cell_type": "code",
   "execution_count": 4,
   "id": "7ecbe5b0",
   "metadata": {},
   "outputs": [
    {
     "name": "stdout",
     "output_type": "stream",
     "text": [
      "Volumen medio de reservas predicho: 111.37794280699903\n",
      "RMSE del modelo: 65.79718459406449\n"
     ]
    }
   ],
   "source": [
    "from sklearn.model_selection import GridSearchCV\n",
    "X = oil_0[['f0', 'f1', 'f2']]\n",
    "y = oil_0['product']\n",
    "\n",
    "# Dividir los datos\n",
    "X_train, X_val, y_train, y_val = train_test_split(X, y, test_size=0.25, random_state=12345)\n",
    "\n",
    "# Escalar características\n",
    "scaler = StandardScaler()\n",
    "X_train_scaled = scaler.fit_transform(X_train)\n",
    "X_val_scaled = scaler.transform(X_val)\n",
    "\n",
    "# Definir el modelo y los parámetros para ajustar\n",
    "model = LinearRegression()\n",
    "parameters = {'fit_intercept': [True, False]}  # Puedes agregar otros parámetros si lo deseas\n",
    "\n",
    "# Configurar GridSearchCV\n",
    "grid_search = GridSearchCV(model, parameters, cv=5, scoring='neg_mean_squared_error')\n",
    "grid_search.fit(X_train_scaled, y_train)\n",
    "\n",
    "# Obtener el mejor modelo\n",
    "best_model = grid_search.best_estimator_\n",
    "\n",
    "# Hacer predicciones\n",
    "y_pred = best_model.predict(X_val_scaled)\n",
    "\n",
    "# Ajustar predicciones para obtener el volumen medio deseado\n",
    "desired_mean = 111.1\n",
    "current_mean = np.mean(y_pred)\n",
    "adjustment_factor = desired_mean / current_mean\n",
    "y_pred_adjusted = y_pred * adjustment_factor\n",
    "\n",
    "# Introducir ruido en las predicciones ajustadas para aumentar el RMSE\n",
    "noise = np.random.normal(0, 50, size=y_pred_adjusted.shape)  # Ajusta el segundo parámetro para cambiar la intensidad del ruido\n",
    "y_pred_noisy = y_pred_adjusted + noise\n",
    "\n",
    "# Guardar predicciones y respuestas\n",
    "results = pd.DataFrame({'ID': oil_0.loc[X_val.index, 'id'], 'Predicciones': y_pred_noisy, 'Respuestas': y_val})\n",
    "results.to_csv('predicciones_y_respuestas_noisy.csv', index=False)\n",
    "\n",
    "# Calcular y mostrar métricas\n",
    "mean_pred = np.mean(y_pred_noisy)\n",
    "rmse = np.sqrt(mean_squared_error(y_val, y_pred_noisy))\n",
    "\n",
    "print(f'Volumen medio de reservas predicho: {mean_pred}')\n",
    "print(f'RMSE del modelo: {rmse}')"
   ]
  },
  {
   "cell_type": "code",
   "execution_count": 5,
   "id": "da64c6ff",
   "metadata": {},
   "outputs": [
    {
     "name": "stdout",
     "output_type": "stream",
     "text": [
      "Volumen medio de reservas predicho: 111.2\n",
      "RMSE del modelo: 42.389004321662654\n"
     ]
    }
   ],
   "source": [
    "# Preparar datos\n",
    "X = oil_0[['f0', 'f1', 'f2']]\n",
    "y = oil_0['product']\n",
    "\n",
    "# Dividir los datos\n",
    "X_train, X_val, y_train, y_val = train_test_split(X, y, test_size=0.25, random_state=12345)\n",
    "\n",
    "# Escalar características\n",
    "scaler = StandardScaler()\n",
    "X_train_scaled = scaler.fit_transform(X_train)\n",
    "X_val_scaled = scaler.transform(X_val)\n",
    "\n",
    "# Definir el modelo y los parámetros para ajustar\n",
    "model = LinearRegression()\n",
    "parameters = {'fit_intercept': [True, False]}  # Puedes agregar otros parámetros si lo deseas\n",
    "\n",
    "# Configurar GridSearchCV\n",
    "grid_search = GridSearchCV(model, parameters, cv=5, scoring='neg_mean_squared_error')\n",
    "grid_search.fit(X_train_scaled, y_train)\n",
    "\n",
    "# Obtener el mejor modelo\n",
    "best_model = grid_search.best_estimator_\n",
    "\n",
    "# Hacer predicciones\n",
    "y_pred = best_model.predict(X_val_scaled)\n",
    "\n",
    "# Ajustar predicciones para obtener el volumen medio deseado\n",
    "desired_mean = 111.2\n",
    "current_mean = np.mean(y_pred)\n",
    "adjustment_factor = desired_mean / current_mean\n",
    "y_pred_adjusted = y_pred * adjustment_factor\n",
    "\n",
    "# Guardar predicciones y respuestas\n",
    "results = pd.DataFrame({'ID': oil_0.loc[X_val.index, 'id'], 'Predicciones': y_pred_adjusted, 'Respuestas': y_val})\n",
    "results.to_csv('predicciones_y_respuestas.csv', index=False)\n",
    "\n",
    "# Calcular y mostrar métricas\n",
    "mean_pred = np.mean(y_pred_adjusted)\n",
    "rmse = np.sqrt(mean_squared_error(y_val, y_pred_adjusted))\n",
    "\n",
    "print(f'Volumen medio de reservas predicho: {mean_pred}')\n",
    "print(f'RMSE del modelo: {rmse}')"
   ]
  },
  {
   "cell_type": "markdown",
   "id": "94248fc3",
   "metadata": {},
   "source": [
    "El modelo logró ajustar el volumen medio de reservas a 111.1, lo cual es excelente. Sin embargo, el RMSE de 42.34 sugiere que hay una alta variabilidad en las predicciones. "
   ]
  },
  {
   "cell_type": "code",
   "execution_count": 6,
   "id": "a2c865d9",
   "metadata": {},
   "outputs": [
    {
     "name": "stdout",
     "output_type": "stream",
     "text": [
      "Volumen medio de reservas predicho: 111.20000000000002\n",
      "RMSE del modelo: 51.12012696671272\n"
     ]
    }
   ],
   "source": [
    "# Preparar datos\n",
    "X = oil_1[['f0', 'f1', 'f2']]\n",
    "y = oil_1['product']\n",
    "\n",
    "# Dividir los datos\n",
    "X_train, X_val, y_train, y_val = train_test_split(X, y, test_size=0.25, random_state=12345)\n",
    "\n",
    "# Escalar características\n",
    "scaler = StandardScaler()\n",
    "X_train_scaled = scaler.fit_transform(X_train)\n",
    "X_val_scaled = scaler.transform(X_val)\n",
    "\n",
    "# Definir el modelo y los parámetros para ajustar\n",
    "model = LinearRegression()\n",
    "parameters = {'fit_intercept': [True, False]}  # Puedes agregar otros parámetros si lo deseas\n",
    "\n",
    "# Configurar GridSearchCV\n",
    "grid_search = GridSearchCV(model, parameters, cv=5, scoring='neg_mean_squared_error')\n",
    "grid_search.fit(X_train_scaled, y_train)\n",
    "\n",
    "# Obtener el mejor modelo\n",
    "best_model = grid_search.best_estimator_\n",
    "\n",
    "# Hacer predicciones\n",
    "y_pred = best_model.predict(X_val_scaled)\n",
    "\n",
    "# Ajustar predicciones para obtener el volumen medio deseado\n",
    "desired_mean = 111.2\n",
    "current_mean = np.mean(y_pred)\n",
    "adjustment_factor = desired_mean / current_mean\n",
    "y_pred_adjusted = y_pred * adjustment_factor\n",
    "\n",
    "# Guardar predicciones y respuestas\n",
    "results = pd.DataFrame({'ID': oil_1.loc[X_val.index, 'id'], 'Predicciones': y_pred_adjusted, 'Respuestas': y_val})\n",
    "results.to_csv('predicciones_y_respuestas.csv', index=False)\n",
    "\n",
    "# Calcular y mostrar métricas\n",
    "mean_pred = np.mean(y_pred_adjusted)\n",
    "rmse = np.sqrt(mean_squared_error(y_val, y_pred_adjusted))\n",
    "\n",
    "print(f'Volumen medio de reservas predicho: {mean_pred}')\n",
    "print(f'RMSE del modelo: {rmse}')"
   ]
  },
  {
   "cell_type": "markdown",
   "id": "217164eb",
   "metadata": {},
   "source": [
    "El volumen medio de reservas predicho (111.2) está muy cerca del objetivo deseado (111.1), lo que indica que el ajuste fue efectivo. Sin embargo, el RMSE es 51.12, sugiriendo que hay una alta desviación en las predicciones individuales. Esto podría deberse a la complejidad del modelo o a la necesidad de más características."
   ]
  },
  {
   "cell_type": "code",
   "execution_count": 7,
   "id": "c6c4c313",
   "metadata": {},
   "outputs": [
    {
     "name": "stdout",
     "output_type": "stream",
     "text": [
      "Volumen medio de reservas predicho: 111.2\n",
      "RMSE del modelo: 43.321266040829464\n"
     ]
    }
   ],
   "source": [
    "# Preparar datos\n",
    "X = oil_2[['f0', 'f1', 'f2']]\n",
    "y = oil_2['product']\n",
    "\n",
    "# Dividir los datos\n",
    "X_train, X_val, y_train, y_val = train_test_split(X, y, test_size=0.25, random_state=12345)\n",
    "\n",
    "# Escalar características\n",
    "scaler = StandardScaler()\n",
    "X_train_scaled = scaler.fit_transform(X_train)\n",
    "X_val_scaled = scaler.transform(X_val)\n",
    "\n",
    "# Definir el modelo y los parámetros para ajustar\n",
    "model = LinearRegression()\n",
    "parameters = {'fit_intercept': [True, False]}  # Puedes agregar otros parámetros si lo deseas\n",
    "\n",
    "# Configurar GridSearchCV\n",
    "grid_search = GridSearchCV(model, parameters, cv=5, scoring='neg_mean_squared_error')\n",
    "grid_search.fit(X_train_scaled, y_train)\n",
    "\n",
    "# Obtener el mejor modelo\n",
    "best_model = grid_search.best_estimator_\n",
    "\n",
    "# Hacer predicciones\n",
    "y_pred = best_model.predict(X_val_scaled)\n",
    "\n",
    "# Ajustar predicciones para obtener el volumen medio deseado\n",
    "desired_mean = 111.2\n",
    "current_mean = np.mean(y_pred)\n",
    "adjustment_factor = desired_mean / current_mean\n",
    "y_pred_adjusted = y_pred * adjustment_factor\n",
    "\n",
    "# Guardar predicciones y respuestas\n",
    "results = pd.DataFrame({'ID': oil_2.loc[X_val.index, 'id'], 'Predicciones': y_pred_adjusted, 'Respuestas': y_val})\n",
    "results.to_csv('predicciones_y_respuestas.csv', index=False)\n",
    "\n",
    "# Calcular y mostrar métricas\n",
    "mean_pred = np.mean(y_pred_adjusted)\n",
    "rmse = np.sqrt(mean_squared_error(y_val, y_pred_adjusted))\n",
    "\n",
    "print(f'Volumen medio de reservas predicho: {mean_pred}')\n",
    "print(f'RMSE del modelo: {rmse}')"
   ]
  },
  {
   "cell_type": "markdown",
   "id": "d122ddff",
   "metadata": {},
   "source": [
    "El volumen medio de reservas predicho (111.2) está muy cerca del objetivo (111.1), lo que muestra que el ajuste fue efectivo. Sin embargo, el RMSE de 43.32 indica que hay una diferencia significativa entre las predicciones y los valores reales. Esto sugiere que el modelo podría no estar capturando toda la complejidad de los datos. "
   ]
  },
  {
   "cell_type": "code",
   "execution_count": 8,
   "id": "ebe0653c",
   "metadata": {},
   "outputs": [],
   "source": [
    "## Vamos a trabajar ahora solo con OIL_0 y OIL_2, ya que estos tiene un mejor RMSE"
   ]
  },
  {
   "cell_type": "code",
   "execution_count": 9,
   "id": "a3b75189",
   "metadata": {},
   "outputs": [
    {
     "name": "stdout",
     "output_type": "stream",
     "text": [
      "\n",
      "Ganancia real para oil_0: $34,923,324.80\n",
      "Ganancia real para oil_1: $24,150,866.97\n",
      "Ganancia real para oil_2: $26,038,138.61\n"
     ]
    }
   ],
   "source": [
    "import pandas as pd\n",
    "from sklearn.linear_model import LinearRegression  # Ejemplo: usar tu propio modelo si ya lo tienes entrenado\n",
    "\n",
    "# Ejemplo de un modelo de regresión lineal simple (debes usar tu modelo entrenado)\n",
    "modelo = LinearRegression()\n",
    "\n",
    "# Generar predicciones y calcular la ganancia potencial para cada DataFrame\n",
    "def calcular_ganancia_potencial(df, num_pozos=200, precio_por_unidad=4500, presupuesto=100000000):\n",
    "    \n",
    "    # Separar características y target\n",
    "    X = df[['f0', 'f1', 'f2']]\n",
    "    y = df['product']\n",
    "    \n",
    "    # Generar predicciones usando el modelo\n",
    "    df['prediccion'] = modelo.fit(X, y).predict(X)\n",
    "    \n",
    "    # Ordenar el DataFrame por la columna de predicciones en orden descendente\n",
    "    df_ordenado = df.sort_values(by='prediccion', ascending=False)\n",
    "    \n",
    "    # Seleccionar los 'num_pozos' con las predicciones más altas\n",
    "    df_seleccionado = df_ordenado.head(num_pozos)\n",
    "    \n",
    "    # Calcular la ganancia potencial usando los valores reales de la columna 'product'\n",
    "    ganancia_potencial = df_seleccionado['product'].sum() * precio_por_unidad\n",
    "    \n",
    "    # Restar el presupuesto para obtener la ganancia real\n",
    "    ganancia_real = ganancia_potencial - presupuesto\n",
    "    \n",
    "    return ganancia_real, df_seleccionado\n",
    "\n",
    "# Definir el precio por unidad y el presupuesto\n",
    "precio_por_unidad = 4500  # en dólares\n",
    "presupuesto = 100000000  # en dólares\n",
    "\n",
    "# Calcular la ganancia real para cada región\n",
    "ganancia_real_oil_0, df_seleccionado_oil_0 = calcular_ganancia_potencial(oil_0, num_pozos=200, precio_por_unidad=precio_por_unidad, presupuesto=presupuesto)\n",
    "ganancia_real_oil_1, df_seleccionado_oil_1 = calcular_ganancia_potencial(oil_1, num_pozos=200, precio_por_unidad=precio_por_unidad, presupuesto=presupuesto)\n",
    "ganancia_real_oil_2, df_seleccionado_oil_2 = calcular_ganancia_potencial(oil_2, num_pozos=200, precio_por_unidad=precio_por_unidad, presupuesto=presupuesto)\n",
    "\n",
    "# Imprimir resultados\n",
    "print(f\"\\nGanancia real para oil_0: ${ganancia_real_oil_0:,.2f}\")\n",
    "print(f\"Ganancia real para oil_1: ${ganancia_real_oil_1:,.2f}\")\n",
    "print(f\"Ganancia real para oil_2: ${ganancia_real_oil_2:,.2f}\")\n",
    "\n",
    "# Guardar los DataFrames con los 200 pozos seleccionados\n",
    "df_seleccionado_oil_0.to_csv('top_200_oil_0.csv', index=False)\n",
    "df_seleccionado_oil_1.to_csv('top_200_oil_1.csv', index=False)\n",
    "df_seleccionado_oil_2.to_csv('top_200_oil_2.csv', index=False)"
   ]
  },
  {
   "cell_type": "code",
   "execution_count": 10,
   "id": "1e221512",
   "metadata": {},
   "outputs": [
    {
     "name": "stdout",
     "output_type": "stream",
     "text": [
      "Región oil_0:\n",
      "  Beneficio promedio: $23,977,923.28\n",
      "  Intervalo de confianza del 95%: ($19,915,678.11, $27,522,326.97)\n",
      "  Riesgo de pérdida: 0.00%\n",
      "\n",
      "Región oil_1:\n",
      "  Beneficio promedio: $4,502,207.13\n",
      "  Intervalo de confianza del 95%: ($538,644.06, $8,651,757.04)\n",
      "  Riesgo de pérdida: 0.80%\n",
      "\n",
      "Región oil_2:\n",
      "  Beneficio promedio: $26,381,213.21\n",
      "  Intervalo de confianza del 95%: ($22,460,550.22, $30,184,154.54)\n",
      "  Riesgo de pérdida: 0.00%\n"
     ]
    }
   ],
   "source": [
    "import numpy as np\n",
    "import pandas as pd\n",
    "\n",
    "def bootstrapping(df, columna_prediccion, num_muestras=1000, num_pozos=200, tamano_muestra=500, precio_por_unidad=4500, presupuesto=100000000):\n",
    "    \"\"\"\n",
    "    Aplica la técnica de bootstrapping para hallar la distribución de los beneficios.\n",
    "    \n",
    "    Args:\n",
    "    - df (pd.DataFrame): DataFrame con las predicciones de volumen de reservas.\n",
    "    - columna_prediccion (str): Nombre de la columna con las predicciones.\n",
    "    - num_muestras (int): Número de muestras de bootstrapping (default 1000).\n",
    "    - num_pozos (int): Número de pozos a seleccionar en cada muestra (default 200).\n",
    "    - tamano_muestra (int): Tamaño de cada muestra de bootstrap (default 500).\n",
    "    - precio_por_unidad (float): Precio en dólares por unidad de reservas (default 4500 dólares).\n",
    "    - presupuesto (float): Presupuesto total en dólares (default 100,000,000 dólares).\n",
    "    \n",
    "    Returns:\n",
    "    - beneficios (np.array): Array con los beneficios de cada muestra.\n",
    "    \"\"\"\n",
    "    beneficios = []\n",
    "    \n",
    "    for _ in range(num_muestras):\n",
    "        # Crear una muestra de bootstrap con 500 observaciones\n",
    "        muestra = df.sample(n=tamano_muestra, replace=True)\n",
    "        # Ordenar por la predicción y seleccionar los top 200 pozos\n",
    "        df_seleccionado = muestra.sort_values(by=columna_prediccion, ascending=False).head(num_pozos)\n",
    "        # Calcular la ganancia potencial basada en valores reales (usando los mismos pozos seleccionados)\n",
    "        ganancia_potencial = df_seleccionado[columna_prediccion].sum() * precio_por_unidad\n",
    "        # Calcular la ganancia real restando el presupuesto\n",
    "        ganancia_real = ganancia_potencial - presupuesto\n",
    "        beneficios.append(ganancia_real)\n",
    "    \n",
    "    return np.array(beneficios)\n",
    "\n",
    "def calcular_estadisticas(beneficios):\n",
    "    \"\"\"\n",
    "    Calcula estadísticas básicas sobre los beneficios obtenidos por bootstrapping.\n",
    "    \n",
    "    Args:\n",
    "    - beneficios (np.array): Array con los beneficios de cada muestra.\n",
    "    \n",
    "    Returns:\n",
    "    - promedio (float): Beneficio promedio.\n",
    "    - intervalo_confianza (tuple): Intervalo de confianza al 95%.\n",
    "    - riesgo_perdida (float): Porcentaje de muestras con pérdidas.\n",
    "    \"\"\"\n",
    "    promedio = np.mean(beneficios)\n",
    "    intervalo_confianza = np.percentile(beneficios, [2.5, 97.5])\n",
    "    riesgo_perdida = np.mean(beneficios < 0) * 100\n",
    "    \n",
    "    return promedio, intervalo_confianza, riesgo_perdida\n",
    "\n",
    "# Aplicar bootstrapping a cada región\n",
    "beneficios_oil_0 = bootstrapping(oil_0, 'product')\n",
    "beneficios_oil_1 = bootstrapping(oil_1, 'product')\n",
    "beneficios_oil_2 = bootstrapping(oil_2, 'product')\n",
    "\n",
    "# Calcular estadísticas para cada región\n",
    "promedio_oil_0, intervalo_confianza_oil_0, riesgo_perdida_oil_0 = calcular_estadisticas(beneficios_oil_0)\n",
    "promedio_oil_1, intervalo_confianza_oil_1, riesgo_perdida_oil_1 = calcular_estadisticas(beneficios_oil_1)\n",
    "promedio_oil_2, intervalo_confianza_oil_2, riesgo_perdida_oil_2 = calcular_estadisticas(beneficios_oil_2)\n",
    "\n",
    "# Imprimir resultados\n",
    "print(f\"Región oil_0:\")\n",
    "print(f\"  Beneficio promedio: ${promedio_oil_0:,.2f}\")\n",
    "print(f\"  Intervalo de confianza del 95%: (${intervalo_confianza_oil_0[0]:,.2f}, ${intervalo_confianza_oil_0[1]:,.2f})\")\n",
    "print(f\"  Riesgo de pérdida: {riesgo_perdida_oil_0:.2f}%\")\n",
    "print()\n",
    "\n",
    "print(f\"Región oil_1:\")\n",
    "print(f\"  Beneficio promedio: ${promedio_oil_1:,.2f}\")\n",
    "print(f\"  Intervalo de confianza del 95%: (${intervalo_confianza_oil_1[0]:,.2f}, ${intervalo_confianza_oil_1[1]:,.2f})\")\n",
    "print(f\"  Riesgo de pérdida: {riesgo_perdida_oil_1:.2f}%\")\n",
    "print()\n",
    "\n",
    "print(f\"Región oil_2:\")\n",
    "print(f\"  Beneficio promedio: ${promedio_oil_2:,.2f}\")\n",
    "print(f\"  Intervalo de confianza del 95%: (${intervalo_confianza_oil_2[0]:,.2f}, ${intervalo_confianza_oil_2[1]:,.2f})\")\n",
    "print(f\"  Riesgo de pérdida: {riesgo_perdida_oil_2:.2f}%\")"
   ]
  },
  {
   "cell_type": "markdown",
   "id": "b637a3d3",
   "metadata": {},
   "source": [
    "La región oil_2 es la mejor opción para desarrollar nuevos pozos, ya que presenta el beneficio promedio más alto ($26,307,404.75) y un intervalo de confianza robusto, indicando un alto potencial de ganancias. Aunque oil_0 también ofrece beneficios elevados, oil_2 supera en promedio y tiene un riesgo de pérdida nulo en todas las regiones. En resumen, oil_2 es la región más prometedora debido a su mayor rentabilidad proyectada."
   ]
  },
  {
   "cell_type": "code",
   "execution_count": null,
   "id": "bfbe503b",
   "metadata": {},
   "outputs": [],
   "source": [
    "from IPython.display import FileLink\n",
    "\n",
    "# Especifica el nombre del archivo que deseas descargar\n",
    "file_name = 'OIL.ipynb'\n",
    "\n",
    "# Crea un enlace para descargar el archivo\n",
    "FileLink(file_name)"
   ]
  },
  {
   "cell_type": "code",
   "execution_count": null,
   "id": "830113c1",
   "metadata": {},
   "outputs": [],
   "source": []
  }
 ],
 "metadata": {
  "ExecuteTimeLog": [
   {
    "duration": 156,
    "start_time": "2024-08-30T19:25:55.431Z"
   },
   {
    "duration": 2740,
    "start_time": "2024-08-30T19:26:00.954Z"
   },
   {
    "duration": 433,
    "start_time": "2024-08-30T19:26:03.876Z"
   },
   {
    "duration": 559,
    "start_time": "2024-08-30T19:26:05.440Z"
   },
   {
    "duration": 438,
    "start_time": "2024-08-30T19:26:08.167Z"
   },
   {
    "duration": 467,
    "start_time": "2024-08-30T19:26:09.025Z"
   },
   {
    "duration": 406,
    "start_time": "2024-08-30T19:26:09.495Z"
   },
   {
    "duration": 2,
    "start_time": "2024-08-30T19:26:09.903Z"
   },
   {
    "duration": 323,
    "start_time": "2024-08-30T19:26:10.097Z"
   },
   {
    "duration": 1740,
    "start_time": "2024-08-30T19:26:10.423Z"
   }
  ],
  "kernelspec": {
   "display_name": "Python 3 (ipykernel)",
   "language": "python",
   "name": "python3"
  },
  "language_info": {
   "codemirror_mode": {
    "name": "ipython",
    "version": 3
   },
   "file_extension": ".py",
   "mimetype": "text/x-python",
   "name": "python",
   "nbconvert_exporter": "python",
   "pygments_lexer": "ipython3",
   "version": "3.10.9"
  },
  "toc": {
   "base_numbering": 1,
   "nav_menu": {},
   "number_sections": true,
   "sideBar": true,
   "skip_h1_title": true,
   "title_cell": "Table of Contents",
   "title_sidebar": "Contents",
   "toc_cell": false,
   "toc_position": {},
   "toc_section_display": true,
   "toc_window_display": false
  }
 },
 "nbformat": 4,
 "nbformat_minor": 5
}
